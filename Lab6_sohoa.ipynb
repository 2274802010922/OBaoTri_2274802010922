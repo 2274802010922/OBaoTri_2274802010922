{
 "cells": [
  {
   "cell_type": "code",
   "execution_count": 25,
   "metadata": {
    "colab": {
     "base_uri": "https://localhost:8080/"
    },
    "executionInfo": {
     "elapsed": 27959,
     "status": "ok",
     "timestamp": 1741967992643,
     "user": {
      "displayName": "cao trần hoàng vũ 29",
      "userId": "17557523282257769669"
     },
     "user_tz": -420
    },
    "id": "h_JY_xgESOKY",
    "outputId": "e4783f12-4cda-4723-9ad7-1abe640dc7b1"
   },
   "outputs": [
    {
     "name": "stdout",
     "output_type": "stream",
     "text": [
      "Đạo hàm của đa thức là: 30*x**5 + 20*x**3 + 9*x**2 + 5\n",
      "Nhập độ dốc cần tìm: 21\n",
      "Các điểm có độ dốc 21.0 là: [0.695967549931717, -0.620317966445321 - 0.517599753769512*I, -0.620317966445321 + 0.517599753769512*I, 0.272334191479462 - 1.04876254137293*I, 0.272334191479462 + 1.04876254137293*I]\n"
     ]
    }
   ],
   "source": [
    "# Bài tập\n",
    "# Cho y = 5*x**6 + 3*x**3 + 2*x**1 + x + 2*x + 5*x**4 + 1\n",
    "# Cho biết độ dốc của đa thức trên tại điểm nào\n",
    "\n",
    "import sympy as sp\n",
    "\n",
    "# Khai báo biến\n",
    "x = sp.Symbol('x')\n",
    "\n",
    "# Định nghĩa đa thức\n",
    "y = 5*x**6 + 3*x**3 + 2*x**1 + x + 2*x + 5*x**4 + 1\n",
    "\n",
    "# Tính đạo hàm của đa thức\n",
    "dy_dx = sp.diff(y, x)\n",
    "print(\"Đạo hàm của đa thức là:\", dy_dx)\n",
    "\n",
    "# Nhập độ dốc cần tìm\n",
    "do_doc_can_tim = float(input(\"Nhập độ dốc cần tìm: \"))\n",
    "\n",
    "# Giải phương trình đạo hàm bằng độ dốc\n",
    "nghiem = sp.solve(dy_dx - do_doc_can_tim, x)\n",
    "\n",
    "print(f\"Các điểm có độ dốc {do_doc_can_tim} là:\", nghiem)"
   ]
  },
  {
   "cell_type": "code",
   "execution_count": 28,
   "metadata": {
    "colab": {
     "base_uri": "https://localhost:8080/"
    },
    "executionInfo": {
     "elapsed": 69,
     "status": "ok",
     "timestamp": 1741968336641,
     "user": {
      "displayName": "cao trần hoàng vũ 29",
      "userId": "17557523282257769669"
     },
     "user_tz": -420
    },
    "id": "w5ff5NH8ZfbE",
    "outputId": "c1f43a7d-3ec0-4f08-ebf2-30ea54f01d15"
   },
   "outputs": [
    {
     "name": "stdout",
     "output_type": "stream",
     "text": [
      "Giá trị của x: 2.0\n",
      "Đạo hàm của y tại x: tensor(25.)\n",
      "Vòng lặp 1: x = -3.0, y = 27.0\n",
      "Vòng lặp 2: x = -5.0, y = -23.0\n",
      "Vòng lặp 3: x = -11.0, y = -99.0\n",
      "Vòng lặp 4: x = -43.400001525878906, y = -1143.0\n",
      "Vòng lặp 5: x = -591.6080932617188, y = -78195.3984375\n",
      "Vòng lặp 6: x = -105355.5078125, y = -206365872.0\n",
      "Vòng lặp 7: x = -3329998336.0, y = -1169401080446976.0\n",
      "Vòng lặp 8: x = -3.32666671295837e+18, y = -3.692598275118773e+28\n",
      "Vòng lặp 9: x = -3.3200133669524894e+36, y = -inf\n",
      "Vòng lặp 10: x = -inf, y = nan\n"
     ]
    }
   ],
   "source": [
    "import torch\n",
    "\n",
    "# Tạo một tensor có giá trị ban đầu là 2.0\n",
    "x = torch.tensor(2.0, requires_grad=True)\n",
    "y = x**3 + 2 * x**2 + 5 * x + 1\n",
    "\n",
    "# Tính gradient (dy/dx)\n",
    "y.backward()\n",
    "\n",
    "print(\"Giá trị của x:\", x.item())\n",
    "print(\"Đạo hàm của y tại x:\", x.grad)\n",
    "\n",
    "# Gradient Descent với learning rate = 0.1, thực hiện 10 vòng lặp\n",
    "learning_rate = 0.1\n",
    "\n",
    "for i in range(10):\n",
    "    y = x**3 + 2 * x**2 + 5 * x + 1  # Tính lại hàm số\n",
    "    y.backward()                     # Tính gradient\n",
    "    with torch.no_grad():            # Cập nhật x mà không theo dõi gradient\n",
    "        x -= learning_rate * x.grad  # Gradient Descent\n",
    "        x.grad.zero_()               # Đặt lại gradient về 0\n",
    "\n",
    "    print(f\"Vòng lặp {i + 1}: x = {x.item()}, y = {y.item()}\")\n"
   ]
  },
  {
   "cell_type": "code",
   "execution_count": 7,
   "metadata": {
    "colab": {
     "base_uri": "https://localhost:8080/",
     "height": 35
    },
    "executionInfo": {
     "elapsed": 58,
     "status": "ok",
     "timestamp": 1741967020028,
     "user": {
      "displayName": "cao trần hoàng vũ 29",
      "userId": "17557523282257769669"
     },
     "user_tz": -420
    },
    "id": "H_YytVr2Ti1f",
    "outputId": "12d289d0-fcb2-4d7a-ac06-da472d2e68cb"
   },
   "outputs": [
    {
     "data": {
      "application/vnd.google.colaboratory.intrinsic+json": {
       "type": "string"
      },
      "text/plain": [
       "'2.5.1+cu124'"
      ]
     },
     "execution_count": 7,
     "metadata": {},
     "output_type": "execute_result"
    }
   ],
   "source": [
    "# pytorch with tensor\n",
    "\n",
    "import torch\n",
    "import numpy as np\n",
    "torch.__version__"
   ]
  },
  {
   "cell_type": "code",
   "execution_count": 6,
   "metadata": {
    "colab": {
     "base_uri": "https://localhost:8080/"
    },
    "executionInfo": {
     "elapsed": 8,
     "status": "ok",
     "timestamp": 1741967000792,
     "user": {
      "displayName": "cao trần hoàng vũ 29",
      "userId": "17557523282257769669"
     },
     "user_tz": -420
    },
    "id": "WoJPEigzUvxL",
    "outputId": "6ae7a8b2-1f39-42d7-843b-f2d30fe3cda6"
   },
   "outputs": [
    {
     "name": "stdout",
     "output_type": "stream",
     "text": [
      "[1 2 3 4 5]\n",
      "int64\n",
      "<class 'numpy.ndarray'>\n"
     ]
    }
   ],
   "source": [
    "# Chuyển đổi mảng numpy sang tensor pytorch\n",
    "\n",
    "arr = np.array([1, 2, 3, 4, 5])\n",
    "print(arr)\n",
    "print(arr.dtype)\n",
    "print(type(arr))\n"
   ]
  },
  {
   "cell_type": "code",
   "execution_count": 8,
   "metadata": {
    "colab": {
     "base_uri": "https://localhost:8080/"
    },
    "executionInfo": {
     "elapsed": 58,
     "status": "ok",
     "timestamp": 1741967071275,
     "user": {
      "displayName": "cao trần hoàng vũ 29",
      "userId": "17557523282257769669"
     },
     "user_tz": -420
    },
    "id": "nIDPGEH5VA6Z",
    "outputId": "6802b786-60ad-4188-f6f4-42d16857b23d"
   },
   "outputs": [
    {
     "name": "stdout",
     "output_type": "stream",
     "text": [
      "tensor([1, 2, 3, 4, 5])\n"
     ]
    }
   ],
   "source": [
    "x = torch.from_numpy(arr)\n",
    "print(x)"
   ]
  },
  {
   "cell_type": "code",
   "execution_count": 9,
   "metadata": {
    "colab": {
     "base_uri": "https://localhost:8080/"
    },
    "executionInfo": {
     "elapsed": 49,
     "status": "ok",
     "timestamp": 1741967123948,
     "user": {
      "displayName": "cao trần hoàng vũ 29",
      "userId": "17557523282257769669"
     },
     "user_tz": -420
    },
    "id": "KlfiCSEHVCEA",
    "outputId": "d4accaf0-e915-4f80-94b6-4027d1ba650f"
   },
   "outputs": [
    {
     "name": "stdout",
     "output_type": "stream",
     "text": [
      "torch.int64\n"
     ]
    }
   ],
   "source": [
    "print(x.dtype)  # Kiểu dữ liệu của tensor"
   ]
  },
  {
   "cell_type": "code",
   "execution_count": 10,
   "metadata": {
    "colab": {
     "base_uri": "https://localhost:8080/"
    },
    "executionInfo": {
     "elapsed": 45,
     "status": "ok",
     "timestamp": 1741967138354,
     "user": {
      "displayName": "cao trần hoàng vũ 29",
      "userId": "17557523282257769669"
     },
     "user_tz": -420
    },
    "id": "og17Cof3VRXd",
    "outputId": "4fe72255-699e-4087-cd28-c7a5a4c0e711"
   },
   "outputs": [
    {
     "name": "stdout",
     "output_type": "stream",
     "text": [
      "torch.LongTensor\n"
     ]
    }
   ],
   "source": [
    "print(x.type()) # Kiểu tensor trong PyTorch"
   ]
  },
  {
   "cell_type": "code",
   "execution_count": 11,
   "metadata": {
    "colab": {
     "base_uri": "https://localhost:8080/"
    },
    "executionInfo": {
     "elapsed": 16,
     "status": "ok",
     "timestamp": 1741967148872,
     "user": {
      "displayName": "cao trần hoàng vũ 29",
      "userId": "17557523282257769669"
     },
     "user_tz": -420
    },
    "id": "vsQHGn79VSdz",
    "outputId": "487fad01-35f2-476f-f725-e7fbc843b1bb"
   },
   "outputs": [
    {
     "name": "stdout",
     "output_type": "stream",
     "text": [
      "[[ 0.  1.  2.]\n",
      " [ 3.  4.  5.]\n",
      " [ 6.  7.  8.]\n",
      " [ 9. 10. 11.]]\n"
     ]
    }
   ],
   "source": [
    "arr2 = np.arange(0., 12.).reshape(4, 3)  # Tạo mảng numpy 4x3\n",
    "print(arr2)"
   ]
  },
  {
   "cell_type": "code",
   "execution_count": 12,
   "metadata": {
    "colab": {
     "base_uri": "https://localhost:8080/"
    },
    "executionInfo": {
     "elapsed": 106,
     "status": "ok",
     "timestamp": 1741967159464,
     "user": {
      "displayName": "cao trần hoàng vũ 29",
      "userId": "17557523282257769669"
     },
     "user_tz": -420
    },
    "id": "0c-_cJn7VU9x",
    "outputId": "4820be38-4ef2-4408-9139-f0b187c84892"
   },
   "outputs": [
    {
     "name": "stdout",
     "output_type": "stream",
     "text": [
      "tensor([[ 0.,  1.,  2.],\n",
      "        [ 3.,  4.,  5.],\n",
      "        [ 6.,  7.,  8.],\n",
      "        [ 9., 10., 11.]], dtype=torch.float64)\n",
      "torch.DoubleTensor\n"
     ]
    }
   ],
   "source": [
    "x2 = torch.from_numpy(arr2)  # Chuyển đổi thành tensor\n",
    "print(x2)\n",
    "print(x2.type())"
   ]
  },
  {
   "cell_type": "code",
   "execution_count": 13,
   "metadata": {
    "colab": {
     "base_uri": "https://localhost:8080/"
    },
    "executionInfo": {
     "elapsed": 17,
     "status": "ok",
     "timestamp": 1741967215898,
     "user": {
      "displayName": "cao trần hoàng vũ 29",
      "userId": "17557523282257769669"
     },
     "user_tz": -420
    },
    "id": "qmXMSLZ1VhxJ",
    "outputId": "c11700fb-e866-480c-d1c2-c647dc874ea1"
   },
   "outputs": [
    {
     "name": "stdout",
     "output_type": "stream",
     "text": [
      "tensor([0, 1, 2, 3, 4])\n"
     ]
    }
   ],
   "source": [
    "# Kiểm tra tính liên kết giữa numpy array và tensor\n",
    "arr = np.arange(0, 5)\n",
    "x = torch.from_numpy(arr)\n",
    "print(x)"
   ]
  },
  {
   "cell_type": "code",
   "execution_count": 14,
   "metadata": {
    "colab": {
     "base_uri": "https://localhost:8080/"
    },
    "executionInfo": {
     "elapsed": 51,
     "status": "ok",
     "timestamp": 1741967225476,
     "user": {
      "displayName": "cao trần hoàng vũ 29",
      "userId": "17557523282257769669"
     },
     "user_tz": -420
    },
    "id": "G4j7bgVfVlWE",
    "outputId": "be64af3a-f7c4-4705-8581-96ff78f5e794"
   },
   "outputs": [
    {
     "name": "stdout",
     "output_type": "stream",
     "text": [
      "tensor([99,  1,  2,  3,  4])\n"
     ]
    }
   ],
   "source": [
    "arr[0] = 99\n",
    "print(x)  # Tensor cũng thay đổi theo mảng numpy"
   ]
  },
  {
   "cell_type": "code",
   "execution_count": 15,
   "metadata": {
    "colab": {
     "base_uri": "https://localhost:8080/"
    },
    "executionInfo": {
     "elapsed": 63,
     "status": "ok",
     "timestamp": 1741967302486,
     "user": {
      "displayName": "cao trần hoàng vũ 29",
      "userId": "17557523282257769669"
     },
     "user_tz": -420
    },
    "id": "_pYCVy0dV5ZS",
    "outputId": "acb29a49-0e65-42b5-c745-00378a6e0aeb"
   },
   "outputs": [
    {
     "name": "stdout",
     "output_type": "stream",
     "text": [
      "tensor([0, 1, 2, 3, 4])\n"
     ]
    }
   ],
   "source": [
    "# Tạo tensor độc lập từ numpy array\n",
    "arr = np.arange(0, 5)\n",
    "x = torch.tensor(arr)\n",
    "print(x)  # Tensor này không bị ảnh hưởng nếu thay đổi mảng numpy"
   ]
  },
  {
   "cell_type": "code",
   "execution_count": 16,
   "metadata": {
    "colab": {
     "base_uri": "https://localhost:8080/"
    },
    "executionInfo": {
     "elapsed": 51,
     "status": "ok",
     "timestamp": 1741967374163,
     "user": {
      "displayName": "cao trần hoàng vũ 29",
      "userId": "17557523282257769669"
     },
     "user_tz": -420
    },
    "id": "mavRWOJWWKsW",
    "outputId": "72f1c8fa-0b24-4f6c-f8e9-a518cc092687"
   },
   "outputs": [
    {
     "name": "stdout",
     "output_type": "stream",
     "text": [
      "tensor([0, 1, 2, 3, 4])\n"
     ]
    }
   ],
   "source": [
    "arr[0] = 99\n",
    "print(x)  # Tensor vẫn giữ nguyên giá trị ban đầu"
   ]
  },
  {
   "cell_type": "markdown",
   "metadata": {
    "id": "uJM2Y9wKWZAV"
   },
   "source": [
    "# BTVN 3: Giải thích lý do tại sao cho 2 trường hợp trên\n",
    "\n",
    "# 1. Khi sử dụng torch.from_numpy():\n",
    "# - Tensor được tạo ra sẽ chia sẻ bộ nhớ với mảng NumPy gốc.\n",
    "# - Bất kỳ thay đổi nào trên mảng NumPy sẽ phản ánh ngay lập tức lên tensor và ngược lại.\n",
    "\n",
    "# 2. Khi sử dụng torch.tensor():\n",
    "# - Tensor được tạo ra là một bản sao độc lập của dữ liệu từ mảng NumPy.\n",
    "# - Vì vậy, thay đổi mảng NumPy gốc sẽ không ảnh hưởng đến tensor được tạo ra bằng phương thức này."
   ]
  },
  {
   "cell_type": "code",
   "execution_count": 21,
   "metadata": {
    "colab": {
     "base_uri": "https://localhost:8080/"
    },
    "executionInfo": {
     "elapsed": 24,
     "status": "ok",
     "timestamp": 1741967816741,
     "user": {
      "displayName": "cao trần hoàng vũ 29",
      "userId": "17557523282257769669"
     },
     "user_tz": -420
    },
    "id": "9sqDl07oWeKc",
    "outputId": "a654395d-9168-4888-a766-eb2c1b0f254c"
   },
   "outputs": [
    {
     "name": "stdout",
     "output_type": "stream",
     "text": [
      "Empty Tensor:\n",
      "tensor([[5.8287e-30, 0.0000e+00, 5.0223e-30],\n",
      "        [0.0000e+00, 1.0000e+00, 1.0000e+00],\n",
      "        [1.0000e+00, 1.0000e+00, 6.7262e-44]])\n"
     ]
    }
   ],
   "source": [
    "# BTVN 4: bạn hãy giúp thầy vẽ nhà tạo tensor với:\n",
    "# Empty\n",
    "# Zeros\n",
    "# Ones\n",
    "# Random\n",
    "# Reshape với view và view_as\n",
    "import torch\n",
    "\n",
    "# Empty tensor\n",
    "empty_tensor = torch.empty(3, 3)\n",
    "print(\"Empty Tensor:\")\n",
    "print(empty_tensor)"
   ]
  },
  {
   "cell_type": "code",
   "execution_count": 18,
   "metadata": {
    "colab": {
     "base_uri": "https://localhost:8080/"
    },
    "executionInfo": {
     "elapsed": 31,
     "status": "ok",
     "timestamp": 1741967760143,
     "user": {
      "displayName": "cao trần hoàng vũ 29",
      "userId": "17557523282257769669"
     },
     "user_tz": -420
    },
    "id": "kupyYqXXXm1z",
    "outputId": "c96a41e1-f35c-4daa-accc-0044a2424eee"
   },
   "outputs": [
    {
     "name": "stdout",
     "output_type": "stream",
     "text": [
      "\n",
      "Zeros Tensor:\n",
      "tensor([[0., 0., 0.],\n",
      "        [0., 0., 0.],\n",
      "        [0., 0., 0.]])\n"
     ]
    }
   ],
   "source": [
    "# Zeros tensor\n",
    "zeros_tensor = torch.zeros(3, 3)\n",
    "print(\"\\nZeros Tensor:\")\n",
    "print(zeros_tensor)"
   ]
  },
  {
   "cell_type": "code",
   "execution_count": 20,
   "metadata": {
    "colab": {
     "base_uri": "https://localhost:8080/"
    },
    "executionInfo": {
     "elapsed": 37,
     "status": "ok",
     "timestamp": 1741967788137,
     "user": {
      "displayName": "cao trần hoàng vũ 29",
      "userId": "17557523282257769669"
     },
     "user_tz": -420
    },
    "id": "Pm0TCVHiXswv",
    "outputId": "9ee0f0fd-c969-49c4-9d2a-a39083ce75f7"
   },
   "outputs": [
    {
     "name": "stdout",
     "output_type": "stream",
     "text": [
      "\n",
      "Ones Tensor:\n",
      "tensor([[1., 1., 1.],\n",
      "        [1., 1., 1.],\n",
      "        [1., 1., 1.]])\n"
     ]
    }
   ],
   "source": [
    "# Ones tensor\n",
    "ones_tensor = torch.ones(3, 3)\n",
    "print(\"\\nOnes Tensor:\")\n",
    "print(ones_tensor)"
   ]
  },
  {
   "cell_type": "code",
   "execution_count": 19,
   "metadata": {
    "colab": {
     "base_uri": "https://localhost:8080/"
    },
    "executionInfo": {
     "elapsed": 28,
     "status": "ok",
     "timestamp": 1741967786699,
     "user": {
      "displayName": "cao trần hoàng vũ 29",
      "userId": "17557523282257769669"
     },
     "user_tz": -420
    },
    "id": "25bL9D4VXs9S",
    "outputId": "99f423fb-4ede-4d8f-fcee-b73236eca905"
   },
   "outputs": [
    {
     "name": "stdout",
     "output_type": "stream",
     "text": [
      "\n",
      "Random Tensor:\n",
      "tensor([[0.9747, 0.4299, 0.9419],\n",
      "        [0.4720, 0.4610, 0.9580],\n",
      "        [0.2545, 0.6625, 0.5875]])\n"
     ]
    }
   ],
   "source": [
    "# Random tensor\n",
    "random_tensor = torch.rand(3, 3)\n",
    "print(\"\\nRandom Tensor:\")\n",
    "print(random_tensor)"
   ]
  },
  {
   "cell_type": "code",
   "execution_count": 23,
   "metadata": {
    "colab": {
     "base_uri": "https://localhost:8080/"
    },
    "executionInfo": {
     "elapsed": 19,
     "status": "ok",
     "timestamp": 1741967879362,
     "user": {
      "displayName": "cao trần hoàng vũ 29",
      "userId": "17557523282257769669"
     },
     "user_tz": -420
    },
    "id": "uWdOPGj4XtIf",
    "outputId": "d4b7547b-2e64-43f0-f9ee-2fc98d97ec5c"
   },
   "outputs": [
    {
     "name": "stdout",
     "output_type": "stream",
     "text": [
      "\n",
      "Original Tensor:\n",
      "tensor([0, 1, 2, 3, 4, 5, 6, 7, 8])\n",
      "\n",
      "Reshaped Tensor (Sử dụng view):\n",
      "tensor([[0, 1, 2],\n",
      "        [3, 4, 5],\n",
      "        [6, 7, 8]])\n",
      "\n",
      "Reshaped Tensor (Sử dụng view_as):\n",
      "tensor([[0, 1, 2],\n",
      "        [3, 4, 5],\n",
      "        [6, 7, 8]])\n"
     ]
    }
   ],
   "source": [
    "# Reshape with view and view_as\n",
    "original_tensor = torch.arange(9)\n",
    "print(\"\\nOriginal Tensor:\")\n",
    "print(original_tensor)\n",
    "\n",
    "# Using view\n",
    "reshaped_tensor = original_tensor.view(3, 3)\n",
    "print(\"\\nReshaped Tensor (Sử dụng view):\")\n",
    "print(reshaped_tensor)\n",
    "\n",
    "# Using view_as\n",
    "template_tensor = torch.zeros(3, 3)\n",
    "reshaped_tensor_as = original_tensor.view_as(template_tensor)\n",
    "print(\"\\nReshaped Tensor (Sử dụng view_as):\")\n",
    "print(reshaped_tensor_as)"
   ]
  }
 ],
 "metadata": {
  "colab": {
   "authorship_tag": "ABX9TyPPE7FkP7U7TvhtzYPOQw8t",
   "provenance": []
  },
  "kernelspec": {
   "display_name": "Python 3",
   "name": "python3"
  },
  "language_info": {
   "name": "python"
  }
 },
 "nbformat": 4,
 "nbformat_minor": 0
}
