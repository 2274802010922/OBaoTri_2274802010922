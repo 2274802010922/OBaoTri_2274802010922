{
 "cells": [
  {
   "cell_type": "markdown",
   "id": "3c01cc5b",
   "metadata": {},
   "source": [
    "# **LAB: Dữ liệu với NumPy, Pandas và Matplotlib**"
   ]
  },
  {
   "cell_type": "markdown",
   "id": "b43e5f00",
   "metadata": {},
   "source": [
    "\n",
    "### **Mục tiêu**\n",
    "- Làm quen với NumPy: Tạo mảng, thao tác cơ bản và nâng cao với mảng.\n",
    "- Thực hành xử lý dữ liệu với Pandas: Đọc, phân tích và làm sạch dữ liệu.\n",
    "- Trực quan hóa dữ liệu bằng Matplotlib: Biểu đồ cơ bản và nâng cao.\n"
   ]
  },
  {
   "cell_type": "markdown",
   "id": "4db747ee",
   "metadata": {},
   "source": [
    "## **Phần 1: NumPy cơ bản**"
   ]
  },
  {
   "cell_type": "markdown",
   "id": "dfebca02",
   "metadata": {},
   "source": [
    "### **Bài tập 1: Tạo mảng và thao tác cơ bản**\n",
    "\n",
    "1 Tạo một mảng NumPy với các giá trị từ 1 đến 20.\\\n",
    "2 Tìm tổng, giá trị lớn nhất, nhỏ nhất và trung bình của mảng.\\\n",
    "3 Tạo một mảng 2D (3x5) chứa các số ngẫu nhiên từ 0 đến 100.\\\n",
    "4 Lấy hàng thứ 2 và cột thứ 3 của mảng 2D."
   ]
  },
  {
   "cell_type": "code",
   "execution_count": 1,
   "id": "e8beb67f",
   "metadata": {},
   "outputs": [
    {
     "name": "stdout",
     "output_type": "stream",
     "text": [
      "Mảng từ 1 đến 20: [ 1  2  3  4  5  6  7  8  9 10 11 12 13 14 15 16 17 18 19 20]\n",
      "Tổng: 210\n",
      "Giá trị lớn nhất: 20\n",
      "Giá trị nhỏ nhất: 1\n",
      "Trung bình: 10.5\n",
      "Mảng 2D: [[ 1  2  3  4  5]\n",
      " [ 9 33 12 44 55]\n",
      " [31  3 44 51 22]]\n",
      "Hàng thứ 2: [ 9 33 12 44 55]\n",
      "Cột thứ 3: [ 3 12 44]\n"
     ]
    }
   ],
   "source": [
    "\n",
    "import numpy as np\n",
    "\n",
    "# 1. Tạo một mảng NumPy với các giá trị từ 1 đến 20\n",
    "array_1 = np.array([1,2,3,4,5,6,7,8,9,10,11,12,13,14,15,16,17,18,19,20])\n",
    "print(\"Mảng từ 1 đến 20:\", array_1)\n",
    "\n",
    "# 2. Tìm tổng, giá trị lớn nhất, nhỏ nhất và trung bình của mảng\n",
    "print(\"Tổng:\", array_1.sum())\n",
    "print(\"Giá trị lớn nhất:\", array_1.max())\n",
    "print(\"Giá trị nhỏ nhất:\", array_1.min())\n",
    "print(\"Trung bình:\", array_1.mean())\n",
    "\n",
    "# 3. Tạo một mảng 2D (3x5) chứa các số ngẫu nhiên từ 0 đến 100\n",
    "array_2d = np.array([[1,2,3,4,5],[9,33,12,44,55],[31,3,44,51,22]])\n",
    "print(\"Mảng 2D:\", array_2d)\n",
    "\n",
    "# 4. Lấy hàng thứ 2 và cột thứ 3 của mảng 2D\n",
    "print(\"Hàng thứ 2:\",array_2d[1])\n",
    "print(\"Cột thứ 3:\",array_2d[:,2])\n"
   ]
  },
  {
   "cell_type": "markdown",
   "id": "e04ed2c1",
   "metadata": {},
   "source": [
    "### **Bài tập 2: Các thao tác nâng cao**\n",
    "\n",
    "1 Tạo một mảng NumPy chứa 20 giá trị ngẫu nhiên từ 0 đến 1.\\\n",
    "2 Chuẩn hóa mảng này (đưa các giá trị về khoảng [0, 1]).\\\n",
    "3 Tính tích vô hướng (dot product) của hai mảng 1D: [1, 2, 3] và [4, 5,6].\\\n",
    "4 Tạo một ma trận 5x5 và tính định thức (determinant) và nghịch đảo của ma trận."
   ]
  },
  {
   "cell_type": "code",
   "execution_count": 12,
   "id": "8bfb4c61",
   "metadata": {},
   "outputs": [
    {
     "name": "stdout",
     "output_type": "stream",
     "text": [
      "Mảng ngẫu nhiên từ 0 đến 1: [0.17394056 0.41845235 0.77786209 0.21653082 0.6768098  0.95464821\n",
      " 0.12177205 0.63771213 0.07794612 0.63036868 0.45427204 0.73668469\n",
      " 0.2208516  0.95906249 0.37711127 0.9109914  0.76182713 0.01911365\n",
      " 0.24243829 0.95128252]\n",
      "Mảng sau khi chuẩn hóa: [0.16471845 0.42485152 0.80722313 0.2100297  0.69971484 0.9953037\n",
      " 0.10921701 0.65811931 0.06259114 0.6503067  0.46295965 0.76341499\n",
      " 0.21462652 1.         0.38086925 0.94885776 0.79016373 0.\n",
      " 0.23759233 0.99172299]\n",
      "Tích vô hướng của a và b: 32\n",
      "Ma trận: [[2 7 1 7 8]\n",
      " [6 1 9 7 1]\n",
      " [9 4 3 4 3]\n",
      " [4 8 1 6 2]\n",
      " [7 3 6 5 7]]\n",
      "Định thức của ma trận: -5286.000000000009\n",
      "Ma trận nghịch đảo: [[ 2.98902762e-02  3.78357927e-04  2.30419977e-01 -1.02534998e-01\n",
      "  -1.03670072e-01]\n",
      " [-2.76768823e-01 -1.49073023e-01 -2.85471056e-01  3.98789255e-01\n",
      "   3.46008324e-01]\n",
      " [-2.87930382e-01 -4.16193719e-02 -3.46197503e-01  2.78849792e-01\n",
      "   4.03707908e-01]\n",
      " [ 3.74385168e-01  2.26258040e-01  2.91146425e-01 -3.15928869e-01\n",
      "  -4.94702989e-01]\n",
      " [ 6.81044268e-02 -6.24290579e-02 -1.92962543e-02 -8.17253121e-02\n",
      "   1.05561862e-01]]\n"
     ]
    }
   ],
   "source": [
    "\n",
    "# 1. Tạo một mảng NumPy chứa 20 giá trị ngẫu nhiên từ 0 đến 1\n",
    "random_array = np.random.rand(20)\n",
    "print(\"Mảng ngẫu nhiên từ 0 đến 1:\", random_array)\n",
    "\n",
    "# 2. Chuẩn hóa mảng này (đưa các giá trị về khoảng [0, 1])\n",
    "normalized_array = (random_array - random_array.min()) / (random_array.max() - random_array.min())\n",
    "\n",
    "print(\"Mảng sau khi chuẩn hóa:\", normalized_array)\n",
    "\n",
    "# 3. Tính tích vô hướng (dot product) của hai mảng 1D\n",
    "a = np.array([1, 2, 3])\n",
    "b = np.array([4, 5, 6])\n",
    "dot_product = np.dot(a, b)\n",
    "print(\"Tích vô hướng của a và b:\", dot_product)\n",
    "\n",
    "# 4. Tạo một ma trận 5x5 và tính định thức, nghịch đảo\n",
    "matrix = np.random.randint(1, 10, size=(5, 5))\n",
    "print(\"Ma trận:\", matrix)\n",
    "determinant = np.linalg.det(matrix)\n",
    "print(\"Định thức của ma trận:\", determinant)\n",
    "if determinant != 0:\n",
    "    inverse_matrix = np.linalg.inv(matrix)\n",
    "    print(\"Ma trận nghịch đảo:\", inverse_matrix)\n",
    "else:\n",
    "    print(\"Ma trận không khả nghịch (định thức = 0).\")\n"
   ]
  },
  {
   "cell_type": "markdown",
   "id": "e33acf59",
   "metadata": {},
   "source": [
    "## **Phần 2: Pandas cơ bản**"
   ]
  },
  {
   "cell_type": "markdown",
   "id": "e2d7aa69",
   "metadata": {},
   "source": [
    "### **Bài tập 3: Làm quen với DataFrame**\n",
    "1 Tạo một DataFrame chứa thông tin sau:\n",
    "| Name    | Age | Score |\n",
    "|---------|-----|-------|\n",
    "| Alice   | 23  | 85    |\n",
    "| Bob     | 25  | 90    |\n",
    "| Charlie | 22  | 78    |\n",
    "| David   | 24  | 92    |\n",
    "| Eva     | 21  | 88    |\n",
    "\n",
    "2 Tính giá trị trung bình của cột \"Score\".\\\n",
    "3 Lọc các hàng có \"Score\" lớn hơn 85."
   ]
  },
  {
   "cell_type": "code",
   "execution_count": 16,
   "id": "e8617a8a",
   "metadata": {},
   "outputs": [
    {
     "name": "stdout",
     "output_type": "stream",
     "text": [
      "DataFrame:       Name  Age  Score\n",
      "0    Alice   23     85\n",
      "1      Bob   25     90\n",
      "2  Charlie   22     78\n",
      "3    David   24     92\n",
      "4      Eva   21     88\n",
      "86.6\n",
      "Các hàng có Score > 85: 0    False\n",
      "1     True\n",
      "2    False\n",
      "3     True\n",
      "4     True\n",
      "Name: Score, dtype: bool\n"
     ]
    }
   ],
   "source": [
    "\n",
    "import pandas as pd\n",
    "\n",
    "# 1. Tạo DataFrame\n",
    "data = {\n",
    "    \"Name\":[\"Alice\",\"Bob\",\"Charlie\",\"David\",\"Eva\"],\n",
    "    \"Age\":[23,25,22,24,21],\n",
    "    \"Score\":[85,90,78,92,88]\n",
    "}\n",
    "df = pd.DataFrame(data)\n",
    "print(\"DataFrame:\", df)\n",
    "\n",
    "# 2. Tính giá trị trung bình của cột \"Score\"\n",
    "print(df[\"Score\"].mean())\n",
    "\n",
    "# 3. Lọc các hàng có \"Score\" lớn hơn 85\n",
    "filtered_df = df[\"Score\"]>85\n",
    "print(\"Các hàng có Score > 85:\", filtered_df)\n"
   ]
  },
  {
   "cell_type": "markdown",
   "id": "b78fc398",
   "metadata": {},
   "source": [
    "### **Bài tập 4: Đọc và phân tích dữ liệu từ file**\n",
    "\n",
    "1 Tải file Iris.csv từ Kaggle Iris Dataset.\\\n",
    "2 Đọc dữ liệu từ file CSV vào DataFrame.\\\n",
    "3 Hiển thị thông tin cơ bản (tổng quan, kiểu dữ liệu, số lượng null).\\\n",
    "4 Tính trung bình, lớn nhất, nhỏ nhất của cột sepal_length."
   ]
  },
  {
   "cell_type": "code",
   "execution_count": 17,
   "id": "62551ea7",
   "metadata": {},
   "outputs": [
    {
     "ename": "SyntaxError",
     "evalue": "invalid syntax (738721755.py, line 2)",
     "output_type": "error",
     "traceback": [
      "\u001b[1;36m  Cell \u001b[1;32mIn[17], line 2\u001b[1;36m\u001b[0m\n\u001b[1;33m    iris_df =\u001b[0m\n\u001b[1;37m              ^\u001b[0m\n\u001b[1;31mSyntaxError\u001b[0m\u001b[1;31m:\u001b[0m invalid syntax\n"
     ]
    }
   ],
   "source": [
    "\n",
    "# Đọc file CSV\n",
    "iris_df = \n",
    "print(\"Thông tin tổng quan về dữ liệu:\", iris_df.info())\n",
    "print(\"Mô tả dữ liệu:\", iris_df.describe())\n",
    "\n",
    "# Tính toán cơ bản\n",
    "print(\"Trung bình sepal_length:\", )\n",
    "print(\"Giá trị lớn nhất sepal_length:\", )\n",
    "print(\"Giá trị nhỏ nhất sepal_length:\", )\n"
   ]
  },
  {
   "cell_type": "markdown",
   "id": "332f5c1f",
   "metadata": {},
   "source": [
    "## **Phần 3: Làm sạch dữ liệu**"
   ]
  },
  {
   "cell_type": "markdown",
   "id": "967ee936",
   "metadata": {},
   "source": [
    "### **Bài tập 5: Xử lý dữ liệu thiếu**\n",
    "1 Tạo một DataFrame chứa các giá trị sau:\n",
    "\n",
    "| Name    | Age | City     | Salary |\n",
    "|---------|-----|----------|--------|\n",
    "| Alice   | 23  | New York | 60000  |\n",
    "| Bob     | NaN | Boston   | 52000  |\n",
    "| Charlie | 25  | NaN      | NaN    |\n",
    "| David   | 24  | Chicago  | 58000  |\n",
    "| Eva     | 22  | Boston   | NaN    |\n",
    "\n",
    "2 Điền giá trị thiếu trong cột Age bằng giá trị trung bình.\\\n",
    "3 Xóa các hàng có nhiều hơn 1 giá trị thiếu.\\\n",
    "4 Điền giá trị thiếu trong cột Salary bằng 50000."
   ]
  },
  {
   "cell_type": "code",
   "execution_count": 5,
   "id": "e4582e08",
   "metadata": {},
   "outputs": [
    {
     "name": "stdout",
     "output_type": "stream",
     "text": [
      "Dữ liệu ban đầu:       Name   Age      City   Salary\n",
      "0    Alice  23.0  New York  60000.0\n",
      "1      Bob   NaN    Boston  52000.0\n",
      "2  Charlie  25.0      None      NaN\n",
      "3    David  24.0   Chicago  58000.0\n",
      "4      Eva  22.0    Boston      NaN\n",
      "Sau khi điền thiếu ở Age:       Name   Age      City   Salary\n",
      "0    Alice  23.0  New York  60000.0\n",
      "1      Bob  23.5    Boston  52000.0\n",
      "2  Charlie  25.0      None      NaN\n",
      "3    David  24.0   Chicago  58000.0\n",
      "4      Eva  22.0    Boston      NaN\n",
      "Sau khi xóa hàng thiếu nhiều hơn 1 cột:     Name   Age      City   Salary\n",
      "0  Alice  23.0  New York  60000.0\n",
      "1    Bob  23.5    Boston  52000.0\n",
      "3  David  24.0   Chicago  58000.0\n",
      "4    Eva  22.0    Boston      NaN\n",
      "Sau khi điền thiếu ở Salary:     Name   Age      City   Salary\n",
      "0  Alice  23.0  New York  60000.0\n",
      "1    Bob  23.5    Boston  52000.0\n",
      "3  David  24.0   Chicago  58000.0\n",
      "4    Eva  22.0    Boston  50000.0\n"
     ]
    },
    {
     "name": "stderr",
     "output_type": "stream",
     "text": [
      "C:\\Users\\anhng\\AppData\\Local\\Temp\\ipykernel_10000\\1832354684.py:20: SettingWithCopyWarning: \n",
      "A value is trying to be set on a copy of a slice from a DataFrame\n",
      "\n",
      "See the caveats in the documentation: https://pandas.pydata.org/pandas-docs/stable/user_guide/indexing.html#returning-a-view-versus-a-copy\n",
      "  df_cleaned[\"Salary\"].fillna(50000, inplace=True)\n"
     ]
    }
   ],
   "source": [
    "\n",
    "# Tạo DataFrame chứa dữ liệu thiếu\n",
    "data_with_missing = \n",
    "\n",
    "df_missing = pd.DataFrame(data_with_missing)\n",
    "print(\"Dữ liệu ban đầu:\", df_missing)\n",
    "\n",
    "# 1. Điền giá trị thiếu trong cột Age bằng giá trị trung bình\n",
    "\n",
    "\n",
    "# 2. Xóa các hàng có nhiều hơn 1 giá trị thiếu\n",
    "\n",
    "\n",
    "# 3. Điền giá trị thiếu trong cột Salary bằng 50000\n",
    "\n"
   ]
  },
  {
   "cell_type": "markdown",
   "id": "b386c09b",
   "metadata": {},
   "source": [
    "## **Phần 4: Trực quan hóa dữ liệu với Matplotlib**"
   ]
  },
  {
   "cell_type": "markdown",
   "id": "badc99ed",
   "metadata": {},
   "source": [
    "### **Bài tập 6: Biểu đồ cơ bản**\n",
    "\n",
    "1 Tạo một biểu đồ đường biểu diễn hàm số y = x ** 2 trên khoảng [-10,10] \\\n",
    "2 Vẽ biểu đồ cột thể hiện điểm số (Score) của các sinh viên từ Bài tập 3.\\\n",
    "3 Tạo một biểu đồ tròn (pie chart) thể hiện phần trăm mỗi loại hoa trong tập dữ liệu Iris."
   ]
  },
  {
   "cell_type": "code",
   "execution_count": 3,
   "id": "2de20551",
   "metadata": {},
   "outputs": [
    {
     "data": {
      "image/png": "[encoded data removed]",
      "text/plain": [
       "<Figure size 800x500 with 1 Axes>"
      ]
     },
     "metadata": {},
     "output_type": "display_data"
    },
    {
     "data": {
      "image/png": "[encoded data removed]",
      "text/plain": [
       "<Figure size 800x500 with 1 Axes>"
      ]
     },
     "metadata": {},
     "output_type": "display_data"
    }
   ],
   "source": [
    "\n",
    "\n",
    "# 1. Biểu đồ đường hàm số y = x^2\n",
    "\n",
    "import matplotlib.pyplot as plt\n",
    "import numpy as np\n",
    "\n",
    "x = np.linspace(-10, 10, 100)\n",
    "y = x ** 2\n",
    "plt.figure(figsize=(8, 5))\n",
    "plt.plot(x, y, label='y = x^2', color='blue')\n",
    "plt.title(\"Biểu đồ đường: y = x^2\")\n",
    "plt.xlabel(\"x\")\n",
    "plt.ylabel(\"y\")\n",
    "plt.axhline(0, color='black', linewidth=0.8, linestyle='--')\n",
    "plt.axvline(0, color='black', linewidth=0.8, linestyle='--')\n",
    "plt.grid(alpha=0.3)\n",
    "plt.legend()\n",
    "plt.show()\n",
    "# 2. Biểu đồ cột điểm số\n",
    "students = [\"Alice\",\"Bob\",\"Charlie\",\"David\",\"Eva\"]\n",
    "scores = [85, 90, 78, 88, 76]\n",
    "plt.figure(figsize=(8, 5))\n",
    "plt.bar(students, scores, color='skyblue', alpha=0.8)\n",
    "plt.title(\"Biểu đồ cột: Điểm số của sinh viên\")\n",
    "plt.xlabel(\"Sinh viên\")\n",
    "plt.ylabel(\"Điểm số (Score)\")\n",
    "plt.ylim(0, 100)\n",
    "plt.grid(axis='y', linestyle='--', alpha=0.5)\n",
    "plt.show()\n"
   ]
  },
  {
   "cell_type": "markdown",
   "id": "2a472a75",
   "metadata": {},
   "source": [
    "### **Bài tập 7: Biểu đồ nâng cao**\n",
    "\n",
    "1 Vẽ biểu đồ phân tán (scatter plot) giữa sepal_length và sepal_width của tập dữ liệu Iris. Dùng màu sắc để phân biệt các loại hoa (species).\\\n",
    "2 Thêm tiêu đề, nhãn trục và chú thích cho biểu đồ."
   ]
  },
  {
   "cell_type": "code",
   "execution_count": null,
   "id": "003e508e",
   "metadata": {},
   "outputs": [],
   "source": [
    "\n",
    "# 1. Biểu đồ phân tán với màu sắc theo loại hoa\n"
   ]
  }
 ],
 "metadata": {
  "kernelspec": {
   "display_name": "Python 3",
   "language": "python",
   "name": "python3"
  },
  "language_info": {
   "codemirror_mode": {
    "name": "ipython",
    "version": 3
   },
   "file_extension": ".py",
   "mimetype": "text/x-python",
   "name": "python",
   "nbconvert_exporter": "python",
   "pygments_lexer": "ipython3",
   "version": "3.11.9"
  }
 },
 "nbformat": 4,
 "nbformat_minor": 5
}
